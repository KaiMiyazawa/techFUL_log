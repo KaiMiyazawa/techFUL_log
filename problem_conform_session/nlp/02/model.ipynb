{
 "cells": [
  {
   "cell_type": "code",
   "execution_count": 9,
   "id": "46949133-068a-4a3c-ac58-f0922d107619",
   "metadata": {},
   "outputs": [],
   "source": [
    "import numpy as np\n",
    "import pandas as pd\n",
    "from sklearn.feature_extraction.text import TfidfVectorizer\n",
    "from sklearn.svm import SVC\n",
    "from sklearn.model_selection import train_test_split\n",
    "from sklearn.pipeline import Pipeline\n",
    "from sklearn.metrics import classification_report\n",
    "from janome.tokenizer import Tokenizer\n",
    "\n",
    "import pickle\n",
    "\n",
    "# 形態素解析器の設定\n",
    "t = Tokenizer()\n",
    "\n",
    "# 形態素解析関数\n",
    "def tokenize(text):\n",
    "    tokens = t.tokenize(text)\n",
    "    return [token.base_form for token in tokens if token.part_of_speech.split(',')[0] in ['名詞', '動詞']]"
   ]
  },
  {
   "cell_type": "code",
   "execution_count": null,
   "id": "a79f8adf-cc22-4d84-9123-63ecdfc613b0",
   "metadata": {},
   "outputs": [],
   "source": []
  },
  {
   "cell_type": "code",
   "execution_count": 10,
   "id": "9926f9ac-3801-42a5-8f0e-3182cd6bfbc2",
   "metadata": {},
   "outputs": [],
   "source": [
    "df_train = pd.read_csv(\"train.csv\")"
   ]
  },
  {
   "cell_type": "code",
   "execution_count": 11,
   "id": "7d8eaffc-9f43-4680-9c67-8a2e020de5fb",
   "metadata": {},
   "outputs": [
    {
     "data": {
      "text/html": [
       "<div>\n",
       "<style scoped>\n",
       "    .dataframe tbody tr th:only-of-type {\n",
       "        vertical-align: middle;\n",
       "    }\n",
       "\n",
       "    .dataframe tbody tr th {\n",
       "        vertical-align: top;\n",
       "    }\n",
       "\n",
       "    .dataframe thead th {\n",
       "        text-align: right;\n",
       "    }\n",
       "</style>\n",
       "<table border=\"1\" class=\"dataframe\">\n",
       "  <thead>\n",
       "    <tr style=\"text-align: right;\">\n",
       "      <th></th>\n",
       "      <th>id</th>\n",
       "      <th>text</th>\n",
       "      <th>label</th>\n",
       "    </tr>\n",
       "  </thead>\n",
       "  <tbody>\n",
       "    <tr>\n",
       "      <th>0</th>\n",
       "      <td>1</td>\n",
       "      <td>猫ちゃんの方がよっぽどいい部屋住んでるし、きれいにされている</td>\n",
       "      <td>1</td>\n",
       "    </tr>\n",
       "    <tr>\n",
       "      <th>1</th>\n",
       "      <td>2</td>\n",
       "      <td>歩くときは姿勢を意識することが大切らしい</td>\n",
       "      <td>0</td>\n",
       "    </tr>\n",
       "    <tr>\n",
       "      <th>2</th>\n",
       "      <td>3</td>\n",
       "      <td>置き配ボックス設置してみた</td>\n",
       "      <td>1</td>\n",
       "    </tr>\n",
       "    <tr>\n",
       "      <th>3</th>\n",
       "      <td>4</td>\n",
       "      <td>楽しげな曲を聴くと、ついついどういう風に踊ればいいか考えてしまう</td>\n",
       "      <td>0</td>\n",
       "    </tr>\n",
       "    <tr>\n",
       "      <th>4</th>\n",
       "      <td>5</td>\n",
       "      <td>ロフトベッドで収納スペースを確保する</td>\n",
       "      <td>1</td>\n",
       "    </tr>\n",
       "    <tr>\n",
       "      <th>...</th>\n",
       "      <td>...</td>\n",
       "      <td>...</td>\n",
       "      <td>...</td>\n",
       "    </tr>\n",
       "    <tr>\n",
       "      <th>155</th>\n",
       "      <td>156</td>\n",
       "      <td>体育の授業だと、陸上が一番嫌いでした</td>\n",
       "      <td>0</td>\n",
       "    </tr>\n",
       "    <tr>\n",
       "      <th>156</th>\n",
       "      <td>157</td>\n",
       "      <td>彼の選球眼は卓越している</td>\n",
       "      <td>0</td>\n",
       "    </tr>\n",
       "    <tr>\n",
       "      <th>157</th>\n",
       "      <td>158</td>\n",
       "      <td>彼は侯爵夫人にダンスを申し込んだが、断られてしまったようだ</td>\n",
       "      <td>0</td>\n",
       "    </tr>\n",
       "    <tr>\n",
       "      <th>158</th>\n",
       "      <td>159</td>\n",
       "      <td>白い家具で統一している</td>\n",
       "      <td>1</td>\n",
       "    </tr>\n",
       "    <tr>\n",
       "      <th>159</th>\n",
       "      <td>160</td>\n",
       "      <td>次の日曜日には、札幌近郊の山でも登ろうかと思っている</td>\n",
       "      <td>0</td>\n",
       "    </tr>\n",
       "  </tbody>\n",
       "</table>\n",
       "<p>160 rows × 3 columns</p>\n",
       "</div>"
      ],
      "text/plain": [
       "      id                              text  label\n",
       "0      1    猫ちゃんの方がよっぽどいい部屋住んでるし、きれいにされている      1\n",
       "1      2              歩くときは姿勢を意識することが大切らしい      0\n",
       "2      3                     置き配ボックス設置してみた      1\n",
       "3      4  楽しげな曲を聴くと、ついついどういう風に踊ればいいか考えてしまう      0\n",
       "4      5                ロフトベッドで収納スペースを確保する      1\n",
       "..   ...                               ...    ...\n",
       "155  156                体育の授業だと、陸上が一番嫌いでした      0\n",
       "156  157                      彼の選球眼は卓越している      0\n",
       "157  158     彼は侯爵夫人にダンスを申し込んだが、断られてしまったようだ      0\n",
       "158  159                       白い家具で統一している      1\n",
       "159  160        次の日曜日には、札幌近郊の山でも登ろうかと思っている      0\n",
       "\n",
       "[160 rows x 3 columns]"
      ]
     },
     "execution_count": 11,
     "metadata": {},
     "output_type": "execute_result"
    }
   ],
   "source": [
    "df_train"
   ]
  },
  {
   "cell_type": "code",
   "execution_count": 12,
   "id": "a9d73022-1686-4b87-988f-907bf3234850",
   "metadata": {},
   "outputs": [
    {
     "name": "stdout",
     "output_type": "stream",
     "text": [
      "              precision    recall  f1-score   support\n",
      "\n",
      "           0       0.65      0.92      0.76        12\n",
      "           1       0.93      0.70      0.80        20\n",
      "\n",
      "    accuracy                           0.78        32\n",
      "   macro avg       0.79      0.81      0.78        32\n",
      "weighted avg       0.83      0.78      0.78        32\n",
      "\n"
     ]
    },
    {
     "name": "stderr",
     "output_type": "stream",
     "text": [
      "/Users/miyazawa.kai.0823/venv/lib/python3.12/site-packages/sklearn/feature_extraction/text.py:525: UserWarning: The parameter 'token_pattern' will not be used since 'tokenizer' is not None'\n",
      "  warnings.warn(\n"
     ]
    }
   ],
   "source": [
    "# データセットの例（ダミーデータ）\n",
    "texts = df_train['text']\n",
    "labels = df_train['label']  # 1はポジティブ、0はネガティブ\n",
    "\n",
    "# データを訓練用とテスト用に分割\n",
    "X_train, X_test, y_train, y_test = train_test_split(texts, labels, test_size=0.2, random_state=42)\n",
    "\n",
    "# パイプラインの作成（TF-IDFベクトル化とSVMモデル）\n",
    "pipeline = Pipeline([\n",
    "    ('tfidf', TfidfVectorizer(tokenizer=tokenize)),\n",
    "    ('clf', SVC(kernel='linear'))\n",
    "])\n",
    "\n",
    "# モデルの訓練\n",
    "pipeline.fit(X_train, y_train)\n",
    "\n",
    "# テストデータでの評価\n",
    "predictions = pipeline.predict(X_test)\n",
    "print(classification_report(y_test, predictions))"
   ]
  },
  {
   "cell_type": "code",
   "execution_count": 13,
   "id": "bd2f92c0-6f60-4bf3-9c7c-fd8a6998dedb",
   "metadata": {},
   "outputs": [
    {
     "name": "stdout",
     "output_type": "stream",
     "text": [
      "モデルはtext_classification_model.pklに保存されました。\n"
     ]
    }
   ],
   "source": [
    "model_filename = 'text_classification_model.pkl'\n",
    "with open(model_filename, 'wb') as file:\n",
    "    pickle.dump(pipeline, file)\n",
    "\n",
    "print(f\"モデルは{model_filename}に保存されました。\")"
   ]
  }
 ],
 "metadata": {
  "kernelspec": {
   "display_name": "venv",
   "language": "python",
   "name": "venv"
  },
  "language_info": {
   "codemirror_mode": {
    "name": "ipython",
    "version": 3
   },
   "file_extension": ".py",
   "mimetype": "text/x-python",
   "name": "python",
   "nbconvert_exporter": "python",
   "pygments_lexer": "ipython3",
   "version": "3.12.3"
  }
 },
 "nbformat": 4,
 "nbformat_minor": 5
}
