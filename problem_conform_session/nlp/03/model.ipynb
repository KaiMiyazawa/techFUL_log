{
 "cells": [
  {
   "cell_type": "code",
   "execution_count": 26,
   "id": "710d230c-623b-4ad7-ba10-8e425e3f5cef",
   "metadata": {},
   "outputs": [],
   "source": [
    "import numpy as np\n",
    "import pandas as pd\n",
    "from sklearn.feature_extraction.text import TfidfVectorizer\n",
    "from sklearn.svm import SVC\n",
    "from sklearn.model_selection import train_test_split\n",
    "from sklearn.pipeline import Pipeline\n",
    "from sklearn.metrics import classification_report\n",
    "from janome.tokenizer import Tokenizer\n",
    "\n",
    "import pickle\n",
    "\n",
    "# 形態素解析器の設定\n",
    "t = Tokenizer()\n",
    "\n",
    "# 形態素解析関数\n",
    "def tokenize(text):\n",
    "    tokens = t.tokenize(text)\n",
    "    return [token.base_form for token in tokens if token.part_of_speech.split(',')[0] in ['名詞', '動詞']]"
   ]
  },
  {
   "cell_type": "code",
   "execution_count": 27,
   "id": "2a3c1f02-44d8-48f9-8e43-bdebf9da92d5",
   "metadata": {},
   "outputs": [],
   "source": [
    "df_train = pd.read_csv(\"train.csv\")\n",
    "# df_train"
   ]
  },
  {
   "cell_type": "code",
   "execution_count": 28,
   "id": "d2f73b43-13b0-497e-84d3-cebda529659c",
   "metadata": {},
   "outputs": [
    {
     "name": "stdout",
     "output_type": "stream",
     "text": [
      "              precision    recall  f1-score   support\n",
      "\n",
      "           0       0.76      0.87      0.81        15\n",
      "           1       0.79      0.92      0.85        12\n",
      "           2       0.88      0.71      0.79        21\n",
      "\n",
      "    accuracy                           0.81        48\n",
      "   macro avg       0.81      0.83      0.82        48\n",
      "weighted avg       0.82      0.81      0.81        48\n",
      "\n"
     ]
    },
    {
     "name": "stderr",
     "output_type": "stream",
     "text": [
      "/Users/miyazawa.kai.0823/venv/lib/python3.12/site-packages/sklearn/feature_extraction/text.py:525: UserWarning: The parameter 'token_pattern' will not be used since 'tokenizer' is not None'\n",
      "  warnings.warn(\n"
     ]
    }
   ],
   "source": [
    "# データセットの例（ダミーデータ）\n",
    "texts = df_train['text']\n",
    "labels = df_train['label']  # 1はポジティブ、0はネガティブ\n",
    "\n",
    "# データを訓練用とテスト用に分割\n",
    "X_train, X_test, y_train, y_test = train_test_split(texts, labels, test_size=0.2, random_state=42)\n",
    "\n",
    "# パイプラインの作成（TF-IDFベクトル化とSVMモデル）\n",
    "pipeline = Pipeline([\n",
    "    ('tfidf', TfidfVectorizer(tokenizer=tokenize)),\n",
    "    ('clf', SVC(kernel='linear', decision_function_shape='ovr'))\n",
    "])\n",
    "\n",
    "# モデルの訓練\n",
    "pipeline.fit(X_train, y_train)\n",
    "\n",
    "# テストデータでの評価\n",
    "predictions = pipeline.predict(X_test)\n",
    "print(classification_report(y_test, predictions))"
   ]
  },
  {
   "cell_type": "code",
   "execution_count": 29,
   "id": "78bc3884-c75d-4b89-9db2-a2f24633dcaa",
   "metadata": {},
   "outputs": [
    {
     "name": "stdout",
     "output_type": "stream",
     "text": [
      "モデルはtext_classification_model.pklに保存されました。\n"
     ]
    }
   ],
   "source": [
    "model_filename = 'text_classification_model.pkl'\n",
    "with open(model_filename, 'wb') as file:\n",
    "    pickle.dump(pipeline, file)\n",
    "\n",
    "print(f\"モデルは{model_filename}に保存されました。\")"
   ]
  }
 ],
 "metadata": {
  "kernelspec": {
   "display_name": "venv",
   "language": "python",
   "name": "venv"
  },
  "language_info": {
   "codemirror_mode": {
    "name": "ipython",
    "version": 3
   },
   "file_extension": ".py",
   "mimetype": "text/x-python",
   "name": "python",
   "nbconvert_exporter": "python",
   "pygments_lexer": "ipython3",
   "version": "3.12.3"
  }
 },
 "nbformat": 4,
 "nbformat_minor": 5
}
