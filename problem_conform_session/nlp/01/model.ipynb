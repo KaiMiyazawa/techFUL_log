{
 "cells": [
  {
   "cell_type": "code",
   "execution_count": 10,
   "id": "50b136d2-494f-4ff0-bf61-a4d8137f5d5b",
   "metadata": {},
   "outputs": [],
   "source": [
    "import numpy as np\n",
    "import pandas as pd\n",
    "from sklearn.feature_extraction.text import TfidfVectorizer\n",
    "from sklearn.svm import SVC\n",
    "from sklearn.model_selection import train_test_split\n",
    "from sklearn.pipeline import Pipeline\n",
    "from sklearn.metrics import classification_report\n",
    "from janome.tokenizer import Tokenizer\n",
    "\n",
    "import pickle\n",
    "\n",
    "# 形態素解析器の設定\n",
    "t = Tokenizer()\n",
    "\n",
    "# 形態素解析関数\n",
    "def tokenize(text):\n",
    "    tokens = t.tokenize(text)\n",
    "    return [token.base_form for token in tokens if token.part_of_speech.split(',')[0] in ['名詞', '動詞']]"
   ]
  },
  {
   "cell_type": "code",
   "execution_count": 11,
   "id": "faaf4313-4b8b-4000-8547-65bdefba6d4b",
   "metadata": {},
   "outputs": [],
   "source": [
    "df_train = pd.read_csv(\"train.csv\")"
   ]
  },
  {
   "cell_type": "code",
   "execution_count": 12,
   "id": "5b9e062d-c967-41e7-aabd-40236519acf9",
   "metadata": {},
   "outputs": [
    {
     "name": "stdout",
     "output_type": "stream",
     "text": [
      "              precision    recall  f1-score   support\n",
      "\n",
      "           0       0.65      0.92      0.76        12\n",
      "           1       0.93      0.70      0.80        20\n",
      "\n",
      "    accuracy                           0.78        32\n",
      "   macro avg       0.79      0.81      0.78        32\n",
      "weighted avg       0.83      0.78      0.78        32\n",
      "\n"
     ]
    },
    {
     "name": "stderr",
     "output_type": "stream",
     "text": [
      "/Users/miyazawa.kai.0823/venv/lib/python3.12/site-packages/sklearn/feature_extraction/text.py:525: UserWarning: The parameter 'token_pattern' will not be used since 'tokenizer' is not None'\n",
      "  warnings.warn(\n"
     ]
    }
   ],
   "source": [
    "# データセットの例（ダミーデータ）\n",
    "texts = df_train['text']\n",
    "labels = df_train['label']  # 1はポジティブ、0はネガティブ\n",
    "\n",
    "# データを訓練用とテスト用に分割\n",
    "X_train, X_test, y_train, y_test = train_test_split(texts, labels, test_size=0.2, random_state=42)\n",
    "\n",
    "# パイプラインの作成（TF-IDFベクトル化とSVMモデル）\n",
    "pipeline = Pipeline([\n",
    "    ('tfidf', TfidfVectorizer(tokenizer=tokenize)),\n",
    "    ('clf', SVC(kernel='linear'))\n",
    "])\n",
    "\n",
    "# モデルの訓練\n",
    "pipeline.fit(X_train, y_train)\n",
    "\n",
    "# テストデータでの評価\n",
    "predictions = pipeline.predict(X_test)\n",
    "print(classification_report(y_test, predictions))"
   ]
  },
  {
   "cell_type": "code",
   "execution_count": 13,
   "id": "9a73f96a-7b8d-4e69-aecf-9426bb9b6b1f",
   "metadata": {},
   "outputs": [
    {
     "name": "stdout",
     "output_type": "stream",
     "text": [
      "モデルはtext_classification_model.pklに保存されました。\n"
     ]
    }
   ],
   "source": [
    "model_filename = 'text_classification_model.pkl'\n",
    "with open(model_filename, 'wb') as file:\n",
    "    pickle.dump(pipeline, file)\n",
    "\n",
    "print(f\"モデルは{model_filename}に保存されました。\")"
   ]
  }
 ],
 "metadata": {
  "kernelspec": {
   "display_name": "venv",
   "language": "python",
   "name": "venv"
  },
  "language_info": {
   "codemirror_mode": {
    "name": "ipython",
    "version": 3
   },
   "file_extension": ".py",
   "mimetype": "text/x-python",
   "name": "python",
   "nbconvert_exporter": "python",
   "pygments_lexer": "ipython3",
   "version": "3.12.3"
  }
 },
 "nbformat": 4,
 "nbformat_minor": 5
}
