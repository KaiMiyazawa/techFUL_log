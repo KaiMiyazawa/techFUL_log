{
 "cells": [
  {
   "cell_type": "code",
   "execution_count": null,
   "id": "50b136d2-494f-4ff0-bf61-a4d8137f5d5b",
   "metadata": {},
   "outputs": [],
   "source": [
    "import numpy as np\n",
    "from sklearn.feature_extraction.text import TfidfVectorizer\n",
    "from sklearn.svm import SVC\n",
    "from sklearn.model_selection import train_test_split\n",
    "from sklearn.pipeline import Pipeline\n",
    "from sklearn.metrics import classification_report\n",
    "from janome.tokenizer import Tokenizer\n",
    "\n",
    "# 形態素解析器の設定\n",
    "t = Tokenizer()\n",
    "\n",
    "# 形態素解析関数\n",
    "def tokenize(text):\n",
    "    tokens = t.tokenize(text)\n",
    "    return [token.base_form for token in tokens if token.part_of_speech.split(',')[0] in ['名詞', '動詞']]"
   ]
  },
  {
   "cell_type": "code",
   "execution_count": null,
   "id": "5b9e062d-c967-41e7-aabd-40236519acf9",
   "metadata": {},
   "outputs": [],
   "source": [
    "# データセットの例（ダミーデータ）\n",
    "texts = [\n",
    "    \"昨日のコンサートは最高だった。\",\n",
    "    \"新しいレストランで食事をした。\",\n",
    "    \"この本は面白くない。\",\n",
    "    \"映画を見に行く予定です。\",\n",
    "    \"彼の話はいつも面白い。\"\n",
    "]\n",
    "labels = [1, 1, 0, 1, 0]  # 1はポジティブ、0はネガティブ\n",
    "\n",
    "# データを訓練用とテスト用に分割\n",
    "X_train, X_test, y_train, y_test = train_test_split(texts, labels, test_size=0.2, random_state=42)\n",
    "\n",
    "# パイプラインの作成（TF-IDFベクトル化とSVMモデル）\n",
    "pipeline = Pipeline([\n",
    "    ('tfidf', TfidfVectorizer(tokenizer=tokenize)),\n",
    "    ('clf', SVC(kernel='linear'))\n",
    "])\n",
    "\n",
    "# モデルの訓練\n",
    "pipeline.fit(X_train, y_train)\n",
    "\n",
    "# テストデータでの評価\n",
    "predictions = pipeline.predict(X_test)\n",
    "print(classification_report(y_test, predictions))\n"
   ]
  }
 ],
 "metadata": {
  "kernelspec": {
   "display_name": "venv",
   "language": "python",
   "name": "venv"
  },
  "language_info": {
   "codemirror_mode": {
    "name": "ipython",
    "version": 3
   },
   "file_extension": ".py",
   "mimetype": "text/x-python",
   "name": "python",
   "nbconvert_exporter": "python",
   "pygments_lexer": "ipython3",
   "version": "3.12.3"
  }
 },
 "nbformat": 4,
 "nbformat_minor": 5
}
